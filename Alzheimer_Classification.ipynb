{
 "cells": [
  {
   "cell_type": "code",
   "execution_count": 92,
   "metadata": {},
   "outputs": [],
   "source": [
    "# The following project will test 5 pre-trained models for accuracy on Alzheimer image dataset and\n",
    "# will the app will be available online. "
   ]
  },
  {
   "cell_type": "code",
   "execution_count": 93,
   "metadata": {},
   "outputs": [],
   "source": [
    "#                                                                           OUTLINE \n",
    "\n",
    "# Phase 1 : Project Planning and Project Setup\n",
    "# Phase 2 : Data Collection and Data Labeling\n",
    "# Phase 3 : Model Training and Model Debugging\n",
    "# Phase 4 : Model Deployment and Model Testing"
   ]
  },
  {
   "cell_type": "code",
   "execution_count": 94,
   "metadata": {},
   "outputs": [],
   "source": [
    "                                                            # 1. Project Planning and Project Setup\n",
    "                                            \n",
    "# The initial thought was to create a simple CNN model for image classification. However there are extremely well-formulated and pre-trained models on the market that \n",
    "# will be tested regarding accuracy and quality on a specific (first) set of images acquired from Kaggle (> 5k files). \n",
    "# Then a second set of images will be applied to the model (> 40k files).\n",
    "\n",
    "# The whole process will run on Cuda GPU for fast processing.                                             "
   ]
  },
  {
   "cell_type": "code",
   "execution_count": 1,
   "metadata": {},
   "outputs": [
    {
     "name": "stdout",
     "output_type": "stream",
     "text": [
      "Cuda is available :  True\n",
      "Device chosen :  cuda:0\n"
     ]
    }
   ],
   "source": [
    "# BRING IN THE LIBRARIES\n",
    "\n",
    "import numpy as np\n",
    "import pandas as pd\n",
    "\n",
    "import os\n",
    "\n",
    "# visualization librairies\n",
    "import matplotlib.pyplot as plt\n",
    "import seaborn as sns\n",
    "%matplotlib inline\n",
    "\n",
    "import torch\n",
    "import torchvision.transforms as transforms\n",
    "import torchvision.datasets as dsets\n",
    "import torchvision.models as models\n",
    "import torch.nn as nn\n",
    "\n",
    "from torch.utils.data import DataLoader, Dataset\n",
    "\n",
    "# set up GPU \n",
    "torch.cuda.empty_cache()\n",
    "test_gpu = torch.cuda.is_available()\n",
    "device = torch.device(\"cuda:0\" if test_gpu else \"cpu\")\n",
    "\n",
    "print(\"Cuda is available : \", test_gpu)\n",
    "print(\"Device chosen : \", device)\n",
    "\n",
    "# user interface\n",
    "import tkinter as tk\n",
    "from tkinter import simpledialog    \n",
    "ROOT = tk.Tk()\n",
    "ROOT.withdraw()\n",
    "\n",
    "# Set the parameters that control the scaling of plot elements.\n",
    "sns.set_context('notebook')\n",
    "sns.set_style('white')"
   ]
  },
  {
   "cell_type": "code",
   "execution_count": 2,
   "metadata": {},
   "outputs": [],
   "source": [
    "\n",
    "                                                                  # 2  Data Collection and Data Labeling\n",
    "                                                                  \n",
    "class Data(Dataset):\n",
    "     def __init__(self) -> None:          \n",
    "          super(Data, self).__init__()\n",
    "          \n",
    "          # data directories  \n",
    "          self.train_dir = './Alzheimer_Data_Full/data/train'                                      \n",
    "          self.test_dir = './Alzheimer_Data_Full/data/val'\n",
    "          \n",
    "          # transform section\n",
    "          mean =  [0.485, 0.456, 0.406] \n",
    "          std = [0.229, 0.224, 0.225]\n",
    "          \n",
    "          self.composed = transforms.Compose([transforms.Resize(256), transforms.CenterCrop(224), transforms.ToTensor(), transforms.Normalize(mean, std)])\n",
    "          self.composed_inception= transforms.Compose([transforms.Resize(342), transforms.CenterCrop(299), transforms.ToTensor(), transforms.Normalize(mean, std)]) # line for inception model\n",
    "          \n",
    "     def train(self): \n",
    "                                                                                \n",
    "          self.train_data = dsets.ImageFolder(root=self.train_dir, transform=self.composed)                              \n",
    "          self.len_train_data = len(self.train_data) # training dataset size                             \n",
    "          return self.train_data\n",
    "     \n",
    "     def train_inception(self):\n",
    "          \n",
    "          self.train_data_inception = dsets.ImageFolder(root=self.train_dir, transform=self.composed_inception)\n",
    "          self.len_train_data_inception = len(self.train_data_inception)\n",
    "          return self.train_data_inception          \n",
    "          \n",
    "     def val(self):  \n",
    "                       \n",
    "          self.val_data = dsets.ImageFolder(root=self.test_dir, transform=self.composed)                              \n",
    "          self.len_val_data = len(self.val_data)  # validation dataset size                                      \n",
    "          return self.val_data\n",
    "     \n",
    "     def val_inception(self):  \n",
    "                       \n",
    "          self.val_data_inception = dsets.ImageFolder(root=self.test_dir, transform=self.composed_inception)                                                                              \n",
    "          self.len_val_data_inception = len(self.val_data_inception)\n",
    "          return self.val_data_inception\n",
    "     \n",
    "     def n_classes(self) -> None:     \n",
    "                \n",
    "          self.n_train_classes = [f for f in os.listdir(self.train_dir) if not f.startswith('.')]          \n",
    "          self.n_test_classes = [f for f in os.listdir(self.test_dir) if not f.startswith('.')]          \n",
    "          \n",
    "          print(\"Train classes : \", self.n_train_classes, \"\\n\", \"Test classes : \", self.n_test_classes)\n",
    "          self.len_classes = len(self.n_train_classes)          \n",
    "                    \n",
    "          \n",
    "     def __len__(self) -> int:               \n",
    "          return self.len_train_data, self.len_val_data, self.len_train_data_inception, self.len_val_data_inception, self.len_classes     "
   ]
  },
  {
   "cell_type": "code",
   "execution_count": 3,
   "metadata": {},
   "outputs": [
    {
     "name": "stdout",
     "output_type": "stream",
     "text": [
      "The dataset consists of 33984 train data and 6400 validation (test) data\n",
      "\n",
      "Train classes :  ['MildDemented', 'ModerateDemented', 'NonDemented', 'VeryMildDemented'] \n",
      " Test classes :  ['MildDemented', 'ModerateDemented', 'NonDemented', 'VeryMildDemented']\n"
     ]
    }
   ],
   "source": [
    "# Create a Data object\n",
    "\n",
    "data = Data()\n",
    "\n",
    "train_data = data.train()\n",
    "val_data = data.val()\n",
    "\n",
    "train_data_inception = data.train_inception()\n",
    "val_data_inception = data.val_inception()\n",
    "\n",
    "print(f\"The dataset consists of {len(train_data)} train data and {len(val_data)} validation (test) data\\n\")\n",
    "\n",
    "data.n_classes()"
   ]
  },
  {
   "cell_type": "code",
   "execution_count": 4,
   "metadata": {},
   "outputs": [],
   "source": [
    "# By default, when we load a pretrained model all of the parameters have .requires_grad=True, which is fine if we are training from scratch or finetuning. \n",
    "# However, if we are feature extracting and only want to compute gradients for the newly initialized layer then we want all of the other parameters to not require gradients.\n",
    "\n",
    "def set_parameter_requires_grad(model, feature_extracting):\n",
    "    if feature_extracting:\n",
    "        for param in model.parameters():\n",
    "            param.requires_grad = False"
   ]
  },
  {
   "cell_type": "code",
   "execution_count": 5,
   "metadata": {},
   "outputs": [],
   "source": [
    "# Initialize the variables for the model\n",
    "\n",
    "num_classes = 4 # classes of the dataset       \n",
    "feature_extract = False # when True we only update the reshaped layer params, when False, we finetune the whole model"
   ]
  },
  {
   "cell_type": "code",
   "execution_count": 6,
   "metadata": {},
   "outputs": [],
   "source": [
    "#                                                                  3. Model Training and Model Debugging\n",
    "\n",
    "# Load the best 5 pretrained torch models for image classification (DenseNet 201, ResNet50, VGG16, VGG19_BN, Inception_V3)\n",
    "    \n",
    "def initialize_model(model_name, num_classes, feature_extract):\n",
    "                                     \n",
    "    model_ft = None        \n",
    "    \n",
    "    if model_name == \"densenet\":\n",
    "        \n",
    "        weights_201 = models.DenseNet201_Weights.DEFAULT\n",
    "        model_201 = models.densenet201(weights=None)\n",
    "        model_ft = model_201\n",
    "        set_parameter_requires_grad(model_ft, feature_extract)   \n",
    "        model_ft.classifier = nn.Linear(model_ft.classifier.in_features, num_classes) # fc input features, classes        \n",
    "                                    \n",
    "    elif model_name == \"resnet\":\n",
    "        \n",
    "        weights_50 = models.ResNet50_Weights.DEFAULT\n",
    "        model_50 = models.resnet50(weights=None) \n",
    "        model_ft = model_50\n",
    "        set_parameter_requires_grad(model_ft, feature_extract)                \n",
    "        model_ft.fc = nn.Linear(model_ft.fc.in_features, num_classes)        \n",
    "\n",
    "    elif model_name == \"vgg16\":\n",
    "        \n",
    "        weights_16 = models.VGG16_Weights.DEFAULT\n",
    "        model_16 = models.vgg16(weights=None) \n",
    "        model_ft = model_16\n",
    "        set_parameter_requires_grad(model_ft, feature_extract)                         \n",
    "        model_ft.classifier[6] = nn.Linear(model_ft.classifier[6].in_features, num_classes)        \n",
    "    \n",
    "    elif model_name == \"vgg19\":\n",
    "        \n",
    "        weights_19_bn = models.VGG19_BN_Weights.DEFAULT\n",
    "        model_19_bn = models.vgg19_bn(weights=None) \n",
    "        model_ft = model_19_bn\n",
    "        set_parameter_requires_grad(model_ft, feature_extract)                                 \n",
    "        model_ft.classifier[6] = nn.Linear(model_ft.classifier[6].in_features, num_classes)        \n",
    "    \n",
    "    elif model_name == \"inception\":\n",
    "        \n",
    "        weights_inception = models.Inception_V3_Weights.DEFAULT\n",
    "        model_inception = models.inception_v3(weights=None)\n",
    "        model_ft = model_inception\n",
    "        set_parameter_requires_grad(model_ft, feature_extract)\n",
    "        model_ft.AuxLogits.fc = nn.Linear(model_ft.AuxLogits.fc.in_features, num_classes)            \n",
    "        model_ft.fc = nn.Linear(model_ft.fc.in_features, num_classes)                                         \n",
    "    \n",
    "    else:\n",
    "        print(\"Invalid model name, exiting...\")\n",
    "        \n",
    "        exit()\n",
    "        \n",
    "    return model_ft"
   ]
  },
  {
   "cell_type": "code",
   "execution_count": 17,
   "metadata": {},
   "outputs": [],
   "source": [
    "def reload_model(model_name, num_classes, feature_extract):\n",
    "    \n",
    "        model_ft = None                \n",
    "    \n",
    "\n",
    "        if model_name == \"resnet\":\n",
    "                        \n",
    "            model_50 = models.resnet50()   \n",
    "            model_50.fc = nn.Linear(model_50.fc.in_features, num_classes)         \n",
    "            model_50.load_state_dict(torch.load('./FULL_MODEL_TUNED_15_epochs/resnet_50_full_model/resnet_50_full_model_train_best.pt'))             \n",
    "            model_ft = model_50\n",
    "            set_parameter_requires_grad(model_ft, feature_extract)                        \n",
    "\n",
    "        elif model_name == \"vgg16\":\n",
    "                        \n",
    "            model_16 = models.vgg16() \n",
    "            model_16.classifier[6] = nn.Linear(model_16.classifier[6].in_features, num_classes)\n",
    "            model_16.load_state_dict(torch.load('./FULL_MODEL_TUNED_WITH_NO_WEIGHTS/vgg_16_full_model_no_weights/vgg_16_no_weights_train_best.pt'))\n",
    "            model_ft = model_16\n",
    "            set_parameter_requires_grad(model_ft, feature_extract)                                             \n",
    "        \n",
    "        elif model_name == \"vgg19\":\n",
    "            \n",
    "            weights_19_bn = models.VGG19_BN_Weights.DEFAULT\n",
    "            model_19_bn = models.vgg19_bn(weights=None) \n",
    "            model_ft = model_19_bn\n",
    "            set_parameter_requires_grad(model_ft, feature_extract)                                 \n",
    "            model_ft.classifier[6] = nn.Linear(model_ft.classifier[6].in_features, num_classes)                \n",
    "        \n",
    "        else:\n",
    "            print(\"Invalid model name, exiting...\")\n",
    "            \n",
    "            exit()\n",
    "            \n",
    "        return model_ft"
   ]
  },
  {
   "cell_type": "code",
   "execution_count": 18,
   "metadata": {},
   "outputs": [],
   "source": [
    "# call the model\n",
    "\n",
    "model_name = simpledialog.askstring(title = \" Pick model \", prompt = \" resnet or vgg16 or vgg19 or densenet or inception \")\n",
    "model_name = model_name.lower()"
   ]
  },
  {
   "cell_type": "code",
   "execution_count": null,
   "metadata": {},
   "outputs": [],
   "source": [
    "# Initialize THE MODEL \n",
    "\n",
    "model_ft = initialize_model(model_name, num_classes, feature_extract)       \n",
    "model_ft.to(device)    "
   ]
  },
  {
   "cell_type": "code",
   "execution_count": 19,
   "metadata": {},
   "outputs": [
    {
     "data": {
      "text/plain": [
       "VGG(\n",
       "  (features): Sequential(\n",
       "    (0): Conv2d(3, 64, kernel_size=(3, 3), stride=(1, 1), padding=(1, 1))\n",
       "    (1): ReLU(inplace=True)\n",
       "    (2): Conv2d(64, 64, kernel_size=(3, 3), stride=(1, 1), padding=(1, 1))\n",
       "    (3): ReLU(inplace=True)\n",
       "    (4): MaxPool2d(kernel_size=2, stride=2, padding=0, dilation=1, ceil_mode=False)\n",
       "    (5): Conv2d(64, 128, kernel_size=(3, 3), stride=(1, 1), padding=(1, 1))\n",
       "    (6): ReLU(inplace=True)\n",
       "    (7): Conv2d(128, 128, kernel_size=(3, 3), stride=(1, 1), padding=(1, 1))\n",
       "    (8): ReLU(inplace=True)\n",
       "    (9): MaxPool2d(kernel_size=2, stride=2, padding=0, dilation=1, ceil_mode=False)\n",
       "    (10): Conv2d(128, 256, kernel_size=(3, 3), stride=(1, 1), padding=(1, 1))\n",
       "    (11): ReLU(inplace=True)\n",
       "    (12): Conv2d(256, 256, kernel_size=(3, 3), stride=(1, 1), padding=(1, 1))\n",
       "    (13): ReLU(inplace=True)\n",
       "    (14): Conv2d(256, 256, kernel_size=(3, 3), stride=(1, 1), padding=(1, 1))\n",
       "    (15): ReLU(inplace=True)\n",
       "    (16): MaxPool2d(kernel_size=2, stride=2, padding=0, dilation=1, ceil_mode=False)\n",
       "    (17): Conv2d(256, 512, kernel_size=(3, 3), stride=(1, 1), padding=(1, 1))\n",
       "    (18): ReLU(inplace=True)\n",
       "    (19): Conv2d(512, 512, kernel_size=(3, 3), stride=(1, 1), padding=(1, 1))\n",
       "    (20): ReLU(inplace=True)\n",
       "    (21): Conv2d(512, 512, kernel_size=(3, 3), stride=(1, 1), padding=(1, 1))\n",
       "    (22): ReLU(inplace=True)\n",
       "    (23): MaxPool2d(kernel_size=2, stride=2, padding=0, dilation=1, ceil_mode=False)\n",
       "    (24): Conv2d(512, 512, kernel_size=(3, 3), stride=(1, 1), padding=(1, 1))\n",
       "    (25): ReLU(inplace=True)\n",
       "    (26): Conv2d(512, 512, kernel_size=(3, 3), stride=(1, 1), padding=(1, 1))\n",
       "    (27): ReLU(inplace=True)\n",
       "    (28): Conv2d(512, 512, kernel_size=(3, 3), stride=(1, 1), padding=(1, 1))\n",
       "    (29): ReLU(inplace=True)\n",
       "    (30): MaxPool2d(kernel_size=2, stride=2, padding=0, dilation=1, ceil_mode=False)\n",
       "  )\n",
       "  (avgpool): AdaptiveAvgPool2d(output_size=(7, 7))\n",
       "  (classifier): Sequential(\n",
       "    (0): Linear(in_features=25088, out_features=4096, bias=True)\n",
       "    (1): ReLU(inplace=True)\n",
       "    (2): Dropout(p=0.5, inplace=False)\n",
       "    (3): Linear(in_features=4096, out_features=4096, bias=True)\n",
       "    (4): ReLU(inplace=True)\n",
       "    (5): Dropout(p=0.5, inplace=False)\n",
       "    (6): Linear(in_features=4096, out_features=4, bias=True)\n",
       "  )\n",
       ")"
      ]
     },
     "execution_count": 19,
     "metadata": {},
     "output_type": "execute_result"
    }
   ],
   "source": [
    "# Reload THE MODEL\n",
    "\n",
    "model_ft = reload_model(model_name, num_classes, feature_extract)       \n",
    "model_ft.to(device)   "
   ]
  },
  {
   "cell_type": "code",
   "execution_count": 20,
   "metadata": {},
   "outputs": [],
   "source": [
    "# Gather the parameters to be optimized/updated in this run. If we are finetuning we will be updating all parameters.\n",
    "# However, if we are doing feature extract method, we will only update the parameters that we have just initialized, i.e. the parameters with requires_grad is True.\n",
    "\n",
    "def parameters_to_update():    \n",
    "\n",
    "    params_to_update = model_ft.parameters()\n",
    "    print(\"Params to learn:\")\n",
    "\n",
    "    if feature_extract:\n",
    "        params_to_update = []\n",
    "        for name,param in model_ft.named_parameters():\n",
    "            if param.requires_grad == True:\n",
    "                params_to_update.append(param)\n",
    "                print(\"\\t\",name)\n",
    "    else:\n",
    "        for name,param in model_ft.named_parameters():\n",
    "            if param.requires_grad == True:\n",
    "                print(\"\\t\",name)            \n",
    "    \n",
    "    return params_to_update "
   ]
  },
  {
   "cell_type": "code",
   "execution_count": 21,
   "metadata": {},
   "outputs": [
    {
     "name": "stdout",
     "output_type": "stream",
     "text": [
      "Params to learn:\n",
      "\t features.0.weight\n",
      "\t features.0.bias\n",
      "\t features.2.weight\n",
      "\t features.2.bias\n",
      "\t features.5.weight\n",
      "\t features.5.bias\n",
      "\t features.7.weight\n",
      "\t features.7.bias\n",
      "\t features.10.weight\n",
      "\t features.10.bias\n",
      "\t features.12.weight\n",
      "\t features.12.bias\n",
      "\t features.14.weight\n",
      "\t features.14.bias\n",
      "\t features.17.weight\n",
      "\t features.17.bias\n",
      "\t features.19.weight\n",
      "\t features.19.bias\n",
      "\t features.21.weight\n",
      "\t features.21.bias\n",
      "\t features.24.weight\n",
      "\t features.24.bias\n",
      "\t features.26.weight\n",
      "\t features.26.bias\n",
      "\t features.28.weight\n",
      "\t features.28.bias\n",
      "\t classifier.0.weight\n",
      "\t classifier.0.bias\n",
      "\t classifier.3.weight\n",
      "\t classifier.3.bias\n",
      "\t classifier.6.weight\n",
      "\t classifier.6.bias\n"
     ]
    }
   ],
   "source": [
    "# Create object for parameters update function\n",
    "\n",
    "params_to_update = parameters_to_update()           "
   ]
  },
  {
   "cell_type": "code",
   "execution_count": 22,
   "metadata": {},
   "outputs": [],
   "source": [
    "# Criterion, Optimizer, DataLoader\n",
    "\n",
    "criterion = nn.CrossEntropyLoss()\n",
    "\n",
    "learning_rate = 0.001\n",
    "optimizer_ft = torch.optim.Adam(params_to_update, lr=learning_rate) \n",
    "\n",
    "train_loader = DataLoader(dataset=train_data, batch_size=8, drop_last=True)\n",
    "val_loader = DataLoader(dataset=val_data, batch_size=8, drop_last=True)\n",
    "\n",
    "train_loader_inception = DataLoader(dataset=train_data_inception, batch_size=8, drop_last=True)\n",
    "val_loader_inception = DataLoader(dataset=val_data_inception, batch_size=8, drop_last=True)"
   ]
  },
  {
   "cell_type": "code",
   "execution_count": 23,
   "metadata": {},
   "outputs": [],
   "source": [
    "N_EPOCHS = 15 # number of epochs for training (CAN ALWAYS BE ALTERED)\n",
    "\n",
    "min_loss = 1.00 # ---> how much minimum loss do you wish to have (CAN ALWAYS BE ALTERED)\n",
    "min_acc = 0.80 # ---> how much minimum accuracy do you wish to have (CAN ALWAYS BE ALTERED)"
   ]
  },
  {
   "cell_type": "code",
   "execution_count": 24,
   "metadata": {},
   "outputs": [],
   "source": [
    "def train_model(model, train_loader, validation_loader, optimizer, n_epochs, min_loss, min_acc): \n",
    "    \n",
    "    correct = 0 # for accuracy\n",
    "\n",
    "    n_test = len(val_data) \n",
    "    \n",
    "    useful_stuff = {'training_loss':[], 'validation_accuracy':[]}   \n",
    "                \n",
    "    for epoch in range(n_epochs):\n",
    "        \n",
    "        loss_sublist = []                \n",
    "        \n",
    "        for i, (features, labels) in enumerate(train_loader):            \n",
    "            \n",
    "            features, labels = features.to(device), labels.to(device)\n",
    "                                    \n",
    "            model.train()\n",
    "            \n",
    "            optimizer.zero_grad()\n",
    "                        \n",
    "            # loss section start            \n",
    "            # Special case for inception because in training it has an auxiliary output. \n",
    "            # In train mode we calculate the loss by summing the final output and the auxiliary output\n",
    "            # but in testing we only consider the final output.                        \n",
    "            if model_name == \"inception\":                \n",
    "                predictions, aux_outputs = model(features)                \n",
    "                loss1 = criterion(predictions, labels)\n",
    "                loss2 = criterion(aux_outputs, labels)\n",
    "                loss = loss1 + 0.4*loss2                \n",
    "            else:                \n",
    "                predictions = model(features)                        \n",
    "                loss = criterion(predictions, labels)    \n",
    "                                \n",
    "            loss_sublist.append(loss.data.item())\n",
    "            \n",
    "            loss.backward() \n",
    "            # loss section end\n",
    "            \n",
    "            optimizer.step()\n",
    "            \n",
    "        useful_stuff['training_loss'].append(np.mean(loss_sublist))\n",
    "                                \n",
    "        for stuff_loss in useful_stuff['training_loss']:\n",
    "            if stuff_loss < min_loss:\n",
    "                value = epoch\n",
    "                min_loss = stuff_loss\n",
    "                torch.save(model.state_dict(), './train_best.pt')\n",
    "\n",
    "        correct=0\n",
    "        #perform a prediction on the validation  data  \n",
    "        for features, labels in validation_loader:\n",
    "            \n",
    "            features, labels = features.to(device), labels.to(device)\n",
    "                        \n",
    "            model.eval()\n",
    "            \n",
    "            predictions = model(features)\n",
    "            \n",
    "            _, yhat = torch.max(predictions.data, 1)\n",
    "            correct += (yhat == labels).sum().item()\n",
    "            \n",
    "        accuracy = correct / n_test\n",
    "        useful_stuff['validation_accuracy'].append(accuracy)\n",
    "        \n",
    "        for stuff_acc in useful_stuff['validation_accuracy']:\n",
    "            if stuff_acc > min_acc:\n",
    "                value = epoch\n",
    "                min_acc = stuff_acc\n",
    "                torch.save(model.state_dict(), './validation_best.pt')        \n",
    "     \n",
    "    return useful_stuff"
   ]
  },
  {
   "cell_type": "code",
   "execution_count": 13,
   "metadata": {},
   "outputs": [],
   "source": [
    "train_inception=train_model(model_ft, train_loader_inception, val_loader_inception, optimizer_ft, N_EPOCHS, min_loss, min_acc)"
   ]
  },
  {
   "cell_type": "code",
   "execution_count": 13,
   "metadata": {},
   "outputs": [],
   "source": [
    "train_19_bn=train_model(model_ft, train_loader, val_loader, optimizer_ft, N_EPOCHS, min_loss, min_acc)"
   ]
  },
  {
   "cell_type": "code",
   "execution_count": 14,
   "metadata": {},
   "outputs": [],
   "source": [
    "train_50=train_model(model_ft, train_loader, val_loader, optimizer_ft, N_EPOCHS, min_loss, min_acc)"
   ]
  },
  {
   "cell_type": "code",
   "execution_count": 25,
   "metadata": {},
   "outputs": [],
   "source": [
    "train_16=train_model(model_ft, train_loader, val_loader, optimizer_ft, N_EPOCHS, min_loss, min_acc)"
   ]
  },
  {
   "cell_type": "code",
   "execution_count": 13,
   "metadata": {},
   "outputs": [],
   "source": [
    "train_201=train_model(model_ft, train_loader, val_loader, optimizer_ft, N_EPOCHS, min_loss, min_acc)"
   ]
  },
  {
   "cell_type": "code",
   "execution_count": 26,
   "metadata": {},
   "outputs": [
    {
     "data": {
      "image/png": "[encoded data removed]",
      "text/plain": [
       "<Figure size 640x480 with 1 Axes>"
      ]
     },
     "metadata": {},
     "output_type": "display_data"
    }
   ],
   "source": [
    "# Plot the accuracy : AFTER N_EPOCHS\n",
    "\n",
    "# plt.plot(train_19_bn['validation_accuracy'], label='VGG19_BN')\n",
    "# plt.plot(train_50['validation_accuracy'], label='ResNet50')\n",
    "plt.plot(train_16['validation_accuracy'], label='VGG16')\n",
    "# plt.plot(train_201['validation_accuracy'], label='DenseNet 201')\n",
    "# plt.plot(train_inception['validation_accuracy'], label='Inception_V3')\n",
    "plt.ylabel('validation accuracy')\n",
    "plt.xlabel('epochs ')\n",
    "plt.title('validation accuracy epochs')\n",
    "plt.legend()\n",
    "plt.show()"
   ]
  },
  {
   "cell_type": "code",
   "execution_count": 27,
   "metadata": {},
   "outputs": [
    {
     "data": {
      "image/png": "[encoded data removed]",
      "text/plain": [
       "<Figure size 640x480 with 1 Axes>"
      ]
     },
     "metadata": {},
     "output_type": "display_data"
    }
   ],
   "source": [
    "# Plot the loss : AFTER N_EPOCHS\n",
    "\n",
    "# plt.plot(train_19_bn['training_loss'], label='VGG19_BN')\n",
    "# plt.plot(train_50['training_loss'], label='ResNet50')\n",
    "plt.plot(train_16['training_loss'], label='VGG16')\n",
    "# plt.plot(train_201['training_loss'], label='DenseNet 201')\n",
    "# plt.plot(train_inception['training_loss'], label='Inception V3')\n",
    "plt.ylabel('loss')\n",
    "plt.xlabel('epochs')\n",
    "plt.title('training loss epochs')\n",
    "plt.legend()\n",
    "plt.show()"
   ]
  },
  {
   "cell_type": "code",
   "execution_count": null,
   "metadata": {},
   "outputs": [],
   "source": [
    "                                                                            # NOTES\n",
    "                                                                                \n",
    "                                                                                # !!!!\n",
    "\n",
    "# 1. RESHAPED LAYER ( weights = DEFAULT, feature_extract = True )\n",
    "# MOST PROMISING AFTER TRAINING WITH RESHAPED LAYER AND DEFAULT WEIGHTS :  A.ResNet50, B.VGG19_BN (BOTH Decreasing loss but overfitting)\n",
    "\n",
    "# 2. FULL MODEL TUNED ( weights = DEFAULT, feature_extract = False )\n",
    "# MOST PROMISING AFTER TRAINING THE WHOLE MODEL WITH DEFAULT WEIGHTS :     A.ResNet50, B.InceptionV3, C.DenseNet201 (ALL 3 Decreasing loss but overfitting)\n",
    "\n",
    "# 3. FULL MODEL TUNED with NO weights ( weights = None, feature_extract = False )\n",
    "# MOST PROMISING AFTER TRAINING THE WHOLE MODEL WITH NO WEIGHTS :          A.The 2 VGGs outstanding loss decrease (0) but overfit \n",
    "#                                                                          B.InceptionV3 (Periodically Decreasing loss and accurate >0.5 on epoch 9)\n",
    "\n",
    "# 4. CONTINUING WITH LARGER DATASET (trying to escape overfitting) WITH THE A.s of each of the above categories:\n",
    "\n",
    "# A.RESNET 50 RETRAIN FC LAYER      \n",
    "# Β.RESNET 50 WHOLE MODEL RETRAIN\n",
    "# C.VGGs (16 & 19 BN) WHOLE MODEL TRAINING\n",
    "\n",
    "                                                                                \n",
    "                                                                                # !!!!\n",
    " "
   ]
  },
  {
   "cell_type": "code",
   "execution_count": null,
   "metadata": {},
   "outputs": [],
   "source": [
    "#                                                                           4. Model Deployment and Model Testing"
   ]
  }
 ],
 "metadata": {
  "kernelspec": {
   "display_name": "Python 3.10.6 ('virtual')",
   "language": "python",
   "name": "python3"
  },
  "language_info": {
   "codemirror_mode": {
    "name": "ipython",
    "version": 3
   },
   "file_extension": ".py",
   "mimetype": "text/x-python",
   "name": "python",
   "nbconvert_exporter": "python",
   "pygments_lexer": "ipython3",
   "version": "3.10.6 | packaged by conda-forge | (main, Aug 22 2022, 20:30:19) [MSC v.1929 64 bit (AMD64)]"
  },
  "orig_nbformat": 4,
  "vscode": {
   "interpreter": {
    "hash": "512e493bb415ddc9e5a484bee2769d3a00f660053e6e7c2cc3a945005074b7f1"
   }
  }
 },
 "nbformat": 4,
 "nbformat_minor": 2
}
